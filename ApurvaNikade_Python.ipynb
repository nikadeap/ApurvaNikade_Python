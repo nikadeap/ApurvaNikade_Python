{
 "cells": [
  {
   "cell_type": "markdown",
   "metadata": {},
   "source": [
    "#### Import Python Libraries"
   ]
  },
  {
   "cell_type": "code",
   "execution_count": 564,
   "metadata": {},
   "outputs": [],
   "source": [
    "import numpy as np\n",
    "import pandas as pd"
   ]
  },
  {
   "cell_type": "markdown",
   "metadata": {},
   "source": [
    "#### Read input Transaction file"
   ]
  },
  {
   "cell_type": "code",
   "execution_count": 565,
   "metadata": {},
   "outputs": [],
   "source": [
    "import json\n",
    "\n",
    "with open('1537277231233_Input_Transactions.txt') as json_data:\n",
    "    d = json.load(json_data)\n",
    "\n",
    "ip_trans_df = pd.DataFrame(d)"
   ]
  },
  {
   "cell_type": "markdown",
   "metadata": {},
   "source": [
    "#### Read input position file"
   ]
  },
  {
   "cell_type": "code",
   "execution_count": 566,
   "metadata": {},
   "outputs": [],
   "source": [
    "ip_SOD_pos = pd.read_csv('Input_StartOfDay_Positions.txt')\n"
   ]
  },
  {
   "cell_type": "markdown",
   "metadata": {},
   "source": [
    "#### Print expected input positions file"
   ]
  },
  {
   "cell_type": "code",
   "execution_count": 567,
   "metadata": {},
   "outputs": [
    {
     "name": "stdout",
     "output_type": "stream",
     "text": [
      "  Instrument  Account AccountType   Quantity\n",
      "0        IBM      101           E     100000\n",
      "1        IBM      201           I    -100000\n",
      "2       MSFT      101           E    5000000\n",
      "3       MSFT      201           I   -5000000\n",
      "4       APPL      101           E      10000\n",
      "5       APPL      201           I     -10000\n",
      "6       AMZN      101           E     -10000\n",
      "7       AMZN      201           I      10000\n",
      "8       NFLX      101           E  100000000\n",
      "9       NFLX      201           I -100000000\n"
     ]
    }
   ],
   "source": [
    "print(ip_SOD_pos)"
   ]
  },
  {
   "cell_type": "markdown",
   "metadata": {},
   "source": [
    "#### Print input transaction file"
   ]
  },
  {
   "cell_type": "code",
   "execution_count": 568,
   "metadata": {},
   "outputs": [
    {
     "data": {
      "text/plain": [
       "Index(['Instrument', 'TransactionId', 'TransactionQuantity',\n",
       "       'TransactionType'],\n",
       "      dtype='object')"
      ]
     },
     "execution_count": 568,
     "metadata": {},
     "output_type": "execute_result"
    }
   ],
   "source": [
    "ip_trans_df.columns"
   ]
  },
  {
   "cell_type": "code",
   "execution_count": 569,
   "metadata": {},
   "outputs": [
    {
     "name": "stdout",
     "output_type": "stream",
     "text": [
      "   Instrument  TransactionId  TransactionQuantity TransactionType\n",
      "0         IBM              1                 1000               B\n",
      "1        APPL              2                  200               S\n",
      "2        AMZN              3                 5000               S\n",
      "3        MSFT              4                   50               B\n",
      "4        APPL              5                  100               B\n",
      "5        APPL              6                20000               S\n",
      "6        AMZN              7                 5000               S\n",
      "7        MSFT              8                  300               S\n",
      "8        AMZN              9                  200               B\n",
      "9        APPL             10                 9000               B\n",
      "10       AMZN             11                 5000               S\n",
      "11       AMZN             12                   50               S\n"
     ]
    }
   ],
   "source": [
    "print(ip_trans_df)"
   ]
  },
  {
   "cell_type": "markdown",
   "metadata": {},
   "source": [
    "#### Total Number of instruments in the input transaction file are 4"
   ]
  },
  {
   "cell_type": "code",
   "execution_count": 570,
   "metadata": {},
   "outputs": [
    {
     "data": {
      "text/plain": [
       "AMZN    5\n",
       "APPL    4\n",
       "MSFT    2\n",
       "IBM     1\n",
       "Name: Instrument, dtype: int64"
      ]
     },
     "execution_count": 570,
     "metadata": {},
     "output_type": "execute_result"
    }
   ],
   "source": [
    "ip_trans_df['Instrument'].value_counts()"
   ]
  },
  {
   "cell_type": "markdown",
   "metadata": {},
   "source": [
    "#### Total Number of instruments in the input position file are 5"
   ]
  },
  {
   "cell_type": "code",
   "execution_count": 571,
   "metadata": {},
   "outputs": [
    {
     "data": {
      "text/plain": [
       "MSFT    2\n",
       "AMZN    2\n",
       "APPL    2\n",
       "IBM     2\n",
       "NFLX    2\n",
       "Name: Instrument, dtype: int64"
      ]
     },
     "execution_count": 571,
     "metadata": {},
     "output_type": "execute_result"
    }
   ],
   "source": [
    "ip_SOD_pos['Instrument'].value_counts()"
   ]
  },
  {
   "cell_type": "markdown",
   "metadata": {},
   "source": [
    "### Position calculation process"
   ]
  },
  {
   "cell_type": "markdown",
   "metadata": {},
   "source": [
    "#### Groupby instrument and calculate net transaction quantity in input transcation table itself based on cummulative Buy/Sell Transaction"
   ]
  },
  {
   "cell_type": "code",
   "execution_count": 588,
   "metadata": {},
   "outputs": [],
   "source": [
    "#### Function to calculate net transcation quantity\n",
    "def netTransaction(df1):\n",
    "    df1['TransactionQuantity']=df1.apply(lambda x: -x['TransactionQuantity'] if x['TransactionType']=='S' else( x['TransactionQuantity'] if x['TransactionType']=='B' else None) , axis=1)\n",
    "    group_df = df1.groupby('Instrument')['TransactionQuantity'].sum()\n",
    "    df_new =group_df.to_frame()\n",
    "    df_new.reset_index(inplace=True)\n",
    "    return df_new\n",
    "    "
   ]
  },
  {
   "cell_type": "code",
   "execution_count": 589,
   "metadata": {},
   "outputs": [
    {
     "name": "stdout",
     "output_type": "stream",
     "text": [
      "  Instrument  TransactionQuantity\n",
      "0       AMZN                15250\n",
      "1       APPL                29300\n",
      "2        IBM                 1000\n",
      "3       MSFT                  350\n"
     ]
    }
   ],
   "source": [
    "#### print new dataframe\n",
    "ip_trans_new_df = netTransaction(ip_trans_df)\n",
    "print(ip_trans_new_df)"
   ]
  },
  {
   "cell_type": "markdown",
   "metadata": {},
   "source": [
    "#### Merge both the dataframes to create a new dataframe"
   ]
  },
  {
   "cell_type": "code",
   "execution_count": 590,
   "metadata": {},
   "outputs": [],
   "source": [
    "calc_exp_eod_pos = pd.merge(ip_SOD_pos,ip_trans_df_new, on='Instrument',how='left')"
   ]
  },
  {
   "cell_type": "code",
   "execution_count": 591,
   "metadata": {},
   "outputs": [
    {
     "name": "stdout",
     "output_type": "stream",
     "text": [
      "  Instrument  Account AccountType   Quantity  TransactionQuantity\n",
      "0        IBM      101           E     100000               1000.0\n",
      "1        IBM      201           I    -100000               1000.0\n",
      "2       MSFT      101           E    5000000               -250.0\n",
      "3       MSFT      201           I   -5000000               -250.0\n",
      "4       APPL      101           E      10000             -11100.0\n",
      "5       APPL      201           I     -10000             -11100.0\n",
      "6       AMZN      101           E     -10000             -14850.0\n",
      "7       AMZN      201           I      10000             -14850.0\n",
      "8       NFLX      101           E  100000000                  NaN\n",
      "9       NFLX      201           I -100000000                  NaN\n"
     ]
    }
   ],
   "source": [
    "print(calc_exp_eod_pos)"
   ]
  },
  {
   "cell_type": "code",
   "execution_count": 592,
   "metadata": {},
   "outputs": [],
   "source": [
    "### Fill missing values with zero\n",
    "calc_exp_eod_pos.fillna(value=0, inplace=True)\n",
    "### Create new column called eod_Quantity and delta\n",
    "calc_exp_eod_pos['eod_Quantity'] = np.nan\n",
    "calc_exp_eod_pos['delta']=np.nan"
   ]
  },
  {
   "cell_type": "code",
   "execution_count": 593,
   "metadata": {},
   "outputs": [
    {
     "data": {
      "text/html": [
       "<div>\n",
       "<style scoped>\n",
       "    .dataframe tbody tr th:only-of-type {\n",
       "        vertical-align: middle;\n",
       "    }\n",
       "\n",
       "    .dataframe tbody tr th {\n",
       "        vertical-align: top;\n",
       "    }\n",
       "\n",
       "    .dataframe thead th {\n",
       "        text-align: right;\n",
       "    }\n",
       "</style>\n",
       "<table border=\"1\" class=\"dataframe\">\n",
       "  <thead>\n",
       "    <tr style=\"text-align: right;\">\n",
       "      <th></th>\n",
       "      <th>Instrument</th>\n",
       "      <th>Account</th>\n",
       "      <th>AccountType</th>\n",
       "      <th>Quantity</th>\n",
       "      <th>TransactionQuantity</th>\n",
       "      <th>eod_Quantity</th>\n",
       "      <th>delta</th>\n",
       "    </tr>\n",
       "  </thead>\n",
       "  <tbody>\n",
       "    <tr>\n",
       "      <th>0</th>\n",
       "      <td>IBM</td>\n",
       "      <td>101</td>\n",
       "      <td>E</td>\n",
       "      <td>100000</td>\n",
       "      <td>1000.0</td>\n",
       "      <td>NaN</td>\n",
       "      <td>NaN</td>\n",
       "    </tr>\n",
       "    <tr>\n",
       "      <th>1</th>\n",
       "      <td>IBM</td>\n",
       "      <td>201</td>\n",
       "      <td>I</td>\n",
       "      <td>-100000</td>\n",
       "      <td>1000.0</td>\n",
       "      <td>NaN</td>\n",
       "      <td>NaN</td>\n",
       "    </tr>\n",
       "    <tr>\n",
       "      <th>2</th>\n",
       "      <td>MSFT</td>\n",
       "      <td>101</td>\n",
       "      <td>E</td>\n",
       "      <td>5000000</td>\n",
       "      <td>-250.0</td>\n",
       "      <td>NaN</td>\n",
       "      <td>NaN</td>\n",
       "    </tr>\n",
       "    <tr>\n",
       "      <th>3</th>\n",
       "      <td>MSFT</td>\n",
       "      <td>201</td>\n",
       "      <td>I</td>\n",
       "      <td>-5000000</td>\n",
       "      <td>-250.0</td>\n",
       "      <td>NaN</td>\n",
       "      <td>NaN</td>\n",
       "    </tr>\n",
       "    <tr>\n",
       "      <th>4</th>\n",
       "      <td>APPL</td>\n",
       "      <td>101</td>\n",
       "      <td>E</td>\n",
       "      <td>10000</td>\n",
       "      <td>-11100.0</td>\n",
       "      <td>NaN</td>\n",
       "      <td>NaN</td>\n",
       "    </tr>\n",
       "    <tr>\n",
       "      <th>5</th>\n",
       "      <td>APPL</td>\n",
       "      <td>201</td>\n",
       "      <td>I</td>\n",
       "      <td>-10000</td>\n",
       "      <td>-11100.0</td>\n",
       "      <td>NaN</td>\n",
       "      <td>NaN</td>\n",
       "    </tr>\n",
       "    <tr>\n",
       "      <th>6</th>\n",
       "      <td>AMZN</td>\n",
       "      <td>101</td>\n",
       "      <td>E</td>\n",
       "      <td>-10000</td>\n",
       "      <td>-14850.0</td>\n",
       "      <td>NaN</td>\n",
       "      <td>NaN</td>\n",
       "    </tr>\n",
       "    <tr>\n",
       "      <th>7</th>\n",
       "      <td>AMZN</td>\n",
       "      <td>201</td>\n",
       "      <td>I</td>\n",
       "      <td>10000</td>\n",
       "      <td>-14850.0</td>\n",
       "      <td>NaN</td>\n",
       "      <td>NaN</td>\n",
       "    </tr>\n",
       "    <tr>\n",
       "      <th>8</th>\n",
       "      <td>NFLX</td>\n",
       "      <td>101</td>\n",
       "      <td>E</td>\n",
       "      <td>100000000</td>\n",
       "      <td>0.0</td>\n",
       "      <td>NaN</td>\n",
       "      <td>NaN</td>\n",
       "    </tr>\n",
       "    <tr>\n",
       "      <th>9</th>\n",
       "      <td>NFLX</td>\n",
       "      <td>201</td>\n",
       "      <td>I</td>\n",
       "      <td>-100000000</td>\n",
       "      <td>0.0</td>\n",
       "      <td>NaN</td>\n",
       "      <td>NaN</td>\n",
       "    </tr>\n",
       "  </tbody>\n",
       "</table>\n",
       "</div>"
      ],
      "text/plain": [
       "  Instrument  Account AccountType   Quantity  TransactionQuantity  \\\n",
       "0        IBM      101           E     100000               1000.0   \n",
       "1        IBM      201           I    -100000               1000.0   \n",
       "2       MSFT      101           E    5000000               -250.0   \n",
       "3       MSFT      201           I   -5000000               -250.0   \n",
       "4       APPL      101           E      10000             -11100.0   \n",
       "5       APPL      201           I     -10000             -11100.0   \n",
       "6       AMZN      101           E     -10000             -14850.0   \n",
       "7       AMZN      201           I      10000             -14850.0   \n",
       "8       NFLX      101           E  100000000                  0.0   \n",
       "9       NFLX      201           I -100000000                  0.0   \n",
       "\n",
       "   eod_Quantity  delta  \n",
       "0           NaN    NaN  \n",
       "1           NaN    NaN  \n",
       "2           NaN    NaN  \n",
       "3           NaN    NaN  \n",
       "4           NaN    NaN  \n",
       "5           NaN    NaN  \n",
       "6           NaN    NaN  \n",
       "7           NaN    NaN  \n",
       "8           NaN    NaN  \n",
       "9           NaN    NaN  "
      ]
     },
     "execution_count": 593,
     "metadata": {},
     "output_type": "execute_result"
    }
   ],
   "source": [
    "calc_exp_eod_pos"
   ]
  },
  {
   "cell_type": "markdown",
   "metadata": {},
   "source": [
    "#### Calculate positions based on account type"
   ]
  },
  {
   "cell_type": "code",
   "execution_count": 594,
   "metadata": {},
   "outputs": [],
   "source": [
    "### Function to calculate EOD quantity\n",
    "def createPosition(df):\n",
    "    df['eod_Quantity']= df.apply(lambda x : (x['Quantity'] + x['TransactionQuantity']) if x['AccountType']=='E' else ((x['Quantity'] - x['TransactionQuantity']) if x['AccountType']=='I' else None) ,axis=1)\n",
    "    return df                        "
   ]
  },
  {
   "cell_type": "code",
   "execution_count": 595,
   "metadata": {},
   "outputs": [],
   "source": [
    "calc_exp_eod_pos_new = createPosition(calc_exp_eod_pos)"
   ]
  },
  {
   "cell_type": "code",
   "execution_count": 596,
   "metadata": {},
   "outputs": [
    {
     "data": {
      "text/html": [
       "<div>\n",
       "<style scoped>\n",
       "    .dataframe tbody tr th:only-of-type {\n",
       "        vertical-align: middle;\n",
       "    }\n",
       "\n",
       "    .dataframe tbody tr th {\n",
       "        vertical-align: top;\n",
       "    }\n",
       "\n",
       "    .dataframe thead th {\n",
       "        text-align: right;\n",
       "    }\n",
       "</style>\n",
       "<table border=\"1\" class=\"dataframe\">\n",
       "  <thead>\n",
       "    <tr style=\"text-align: right;\">\n",
       "      <th></th>\n",
       "      <th>Instrument</th>\n",
       "      <th>Account</th>\n",
       "      <th>AccountType</th>\n",
       "      <th>Quantity</th>\n",
       "      <th>TransactionQuantity</th>\n",
       "      <th>eod_Quantity</th>\n",
       "      <th>delta</th>\n",
       "    </tr>\n",
       "  </thead>\n",
       "  <tbody>\n",
       "    <tr>\n",
       "      <th>0</th>\n",
       "      <td>IBM</td>\n",
       "      <td>101</td>\n",
       "      <td>E</td>\n",
       "      <td>100000</td>\n",
       "      <td>1000.0</td>\n",
       "      <td>101000.0</td>\n",
       "      <td>NaN</td>\n",
       "    </tr>\n",
       "    <tr>\n",
       "      <th>1</th>\n",
       "      <td>IBM</td>\n",
       "      <td>201</td>\n",
       "      <td>I</td>\n",
       "      <td>-100000</td>\n",
       "      <td>1000.0</td>\n",
       "      <td>-101000.0</td>\n",
       "      <td>NaN</td>\n",
       "    </tr>\n",
       "    <tr>\n",
       "      <th>2</th>\n",
       "      <td>MSFT</td>\n",
       "      <td>101</td>\n",
       "      <td>E</td>\n",
       "      <td>5000000</td>\n",
       "      <td>-250.0</td>\n",
       "      <td>4999750.0</td>\n",
       "      <td>NaN</td>\n",
       "    </tr>\n",
       "    <tr>\n",
       "      <th>3</th>\n",
       "      <td>MSFT</td>\n",
       "      <td>201</td>\n",
       "      <td>I</td>\n",
       "      <td>-5000000</td>\n",
       "      <td>-250.0</td>\n",
       "      <td>-4999750.0</td>\n",
       "      <td>NaN</td>\n",
       "    </tr>\n",
       "    <tr>\n",
       "      <th>4</th>\n",
       "      <td>APPL</td>\n",
       "      <td>101</td>\n",
       "      <td>E</td>\n",
       "      <td>10000</td>\n",
       "      <td>-11100.0</td>\n",
       "      <td>-1100.0</td>\n",
       "      <td>NaN</td>\n",
       "    </tr>\n",
       "    <tr>\n",
       "      <th>5</th>\n",
       "      <td>APPL</td>\n",
       "      <td>201</td>\n",
       "      <td>I</td>\n",
       "      <td>-10000</td>\n",
       "      <td>-11100.0</td>\n",
       "      <td>1100.0</td>\n",
       "      <td>NaN</td>\n",
       "    </tr>\n",
       "    <tr>\n",
       "      <th>6</th>\n",
       "      <td>AMZN</td>\n",
       "      <td>101</td>\n",
       "      <td>E</td>\n",
       "      <td>-10000</td>\n",
       "      <td>-14850.0</td>\n",
       "      <td>-24850.0</td>\n",
       "      <td>NaN</td>\n",
       "    </tr>\n",
       "    <tr>\n",
       "      <th>7</th>\n",
       "      <td>AMZN</td>\n",
       "      <td>201</td>\n",
       "      <td>I</td>\n",
       "      <td>10000</td>\n",
       "      <td>-14850.0</td>\n",
       "      <td>24850.0</td>\n",
       "      <td>NaN</td>\n",
       "    </tr>\n",
       "    <tr>\n",
       "      <th>8</th>\n",
       "      <td>NFLX</td>\n",
       "      <td>101</td>\n",
       "      <td>E</td>\n",
       "      <td>100000000</td>\n",
       "      <td>0.0</td>\n",
       "      <td>100000000.0</td>\n",
       "      <td>NaN</td>\n",
       "    </tr>\n",
       "    <tr>\n",
       "      <th>9</th>\n",
       "      <td>NFLX</td>\n",
       "      <td>201</td>\n",
       "      <td>I</td>\n",
       "      <td>-100000000</td>\n",
       "      <td>0.0</td>\n",
       "      <td>-100000000.0</td>\n",
       "      <td>NaN</td>\n",
       "    </tr>\n",
       "  </tbody>\n",
       "</table>\n",
       "</div>"
      ],
      "text/plain": [
       "  Instrument  Account AccountType   Quantity  TransactionQuantity  \\\n",
       "0        IBM      101           E     100000               1000.0   \n",
       "1        IBM      201           I    -100000               1000.0   \n",
       "2       MSFT      101           E    5000000               -250.0   \n",
       "3       MSFT      201           I   -5000000               -250.0   \n",
       "4       APPL      101           E      10000             -11100.0   \n",
       "5       APPL      201           I     -10000             -11100.0   \n",
       "6       AMZN      101           E     -10000             -14850.0   \n",
       "7       AMZN      201           I      10000             -14850.0   \n",
       "8       NFLX      101           E  100000000                  0.0   \n",
       "9       NFLX      201           I -100000000                  0.0   \n",
       "\n",
       "   eod_Quantity  delta  \n",
       "0      101000.0    NaN  \n",
       "1     -101000.0    NaN  \n",
       "2     4999750.0    NaN  \n",
       "3    -4999750.0    NaN  \n",
       "4       -1100.0    NaN  \n",
       "5        1100.0    NaN  \n",
       "6      -24850.0    NaN  \n",
       "7       24850.0    NaN  \n",
       "8   100000000.0    NaN  \n",
       "9  -100000000.0    NaN  "
      ]
     },
     "execution_count": 596,
     "metadata": {},
     "output_type": "execute_result"
    }
   ],
   "source": [
    "#### Print new dataframe\n",
    "calc_exp_eod_pos_new"
   ]
  },
  {
   "cell_type": "markdown",
   "metadata": {},
   "source": [
    "#### Calculate delta i.e. Net change in positions during the day"
   ]
  },
  {
   "cell_type": "code",
   "execution_count": 597,
   "metadata": {},
   "outputs": [],
   "source": [
    "calc_exp_eod_pos['delta'] = calc_exp_eod_pos['eod_Quantity']-calc_exp_eod_pos['Quantity']"
   ]
  },
  {
   "cell_type": "markdown",
   "metadata": {},
   "source": [
    "#### Drop unwanted columns"
   ]
  },
  {
   "cell_type": "code",
   "execution_count": 598,
   "metadata": {},
   "outputs": [],
   "source": [
    "calc_exp_eod_pos.drop(['TransactionQuantity','Quantity'],inplace=True,axis=1)"
   ]
  },
  {
   "cell_type": "markdown",
   "metadata": {},
   "source": [
    "#### Rename eod_quantity as Quantity"
   ]
  },
  {
   "cell_type": "code",
   "execution_count": 599,
   "metadata": {},
   "outputs": [],
   "source": [
    "calc_exp_eod_pos = calc_exp_eod_pos.rename(columns={'eod_Quantity': 'Quantity'})"
   ]
  },
  {
   "cell_type": "code",
   "execution_count": 600,
   "metadata": {},
   "outputs": [
    {
     "name": "stdout",
     "output_type": "stream",
     "text": [
      "<class 'pandas.core.frame.DataFrame'>\n",
      "Int64Index: 10 entries, 0 to 9\n",
      "Data columns (total 5 columns):\n",
      "Instrument     10 non-null object\n",
      "Account        10 non-null int64\n",
      "AccountType    10 non-null object\n",
      "Quantity       10 non-null float64\n",
      "delta          10 non-null float64\n",
      "dtypes: float64(2), int64(1), object(2)\n",
      "memory usage: 480.0+ bytes\n"
     ]
    }
   ],
   "source": [
    "calc_exp_eod_pos.info()"
   ]
  },
  {
   "cell_type": "markdown",
   "metadata": {},
   "source": [
    "#### Convert quantity and delta to type int"
   ]
  },
  {
   "cell_type": "code",
   "execution_count": 601,
   "metadata": {},
   "outputs": [],
   "source": [
    "calc_exp_eod_pos[['delta','Quantity']]=calc_exp_eod_pos[['delta','Quantity']].astype(int)"
   ]
  },
  {
   "cell_type": "markdown",
   "metadata": {},
   "source": [
    "#### Reindex as per the give format of EOD positions"
   ]
  },
  {
   "cell_type": "code",
   "execution_count": 602,
   "metadata": {},
   "outputs": [],
   "source": [
    "Expected_EndOfDay_Position = calc_exp_eod_pos.reindex(['Instrument','Account','AccountType','Quantity','delta'], axis=1)"
   ]
  },
  {
   "cell_type": "markdown",
   "metadata": {},
   "source": [
    "#### Print final outcome"
   ]
  },
  {
   "cell_type": "code",
   "execution_count": 603,
   "metadata": {},
   "outputs": [
    {
     "name": "stdout",
     "output_type": "stream",
     "text": [
      "  Instrument  Account AccountType   Quantity  delta\n",
      "0        IBM      101           E     101000   1000\n",
      "1        IBM      201           I    -101000  -1000\n",
      "2       MSFT      101           E    4999750   -250\n",
      "3       MSFT      201           I   -4999750    250\n",
      "4       APPL      101           E      -1100 -11100\n",
      "5       APPL      201           I       1100  11100\n",
      "6       AMZN      101           E     -24850 -14850\n",
      "7       AMZN      201           I      24850  14850\n",
      "8       NFLX      101           E  100000000      0\n",
      "9       NFLX      201           I -100000000      0\n"
     ]
    }
   ],
   "source": [
    "print(Expected_EndOfDay_Position)"
   ]
  },
  {
   "cell_type": "markdown",
   "metadata": {},
   "source": [
    "#### Query: At the end of the process find instruments with largest and lowest net transaction volumes for the day. \n",
    "###### (net volume is change in positions from start of day positions to end of day positions)\n",
    "\n",
    "\n",
    "##### Answer:  Instrument AMZN has the largest net transaction volume for the day and instrument NFLX has the lowest net transaction volume for the day"
   ]
  },
  {
   "cell_type": "code",
   "execution_count": null,
   "metadata": {},
   "outputs": [],
   "source": []
  },
  {
   "cell_type": "code",
   "execution_count": null,
   "metadata": {},
   "outputs": [],
   "source": []
  },
  {
   "cell_type": "code",
   "execution_count": null,
   "metadata": {},
   "outputs": [],
   "source": []
  },
  {
   "cell_type": "code",
   "execution_count": null,
   "metadata": {},
   "outputs": [],
   "source": []
  },
  {
   "cell_type": "markdown",
   "metadata": {},
   "source": [
    "#### UNIT TEST on function defined for dataframes"
   ]
  },
  {
   "cell_type": "code",
   "execution_count": 511,
   "metadata": {},
   "outputs": [],
   "source": [
    "import pandas as pd\n",
    "from nose.tools import assert_dict_equal\n",
    "\n",
    "input = pd.DataFrame.from_dict({\n",
    "    'Instrument': ['a', 'a','c','c'],\n",
    "    'TransactionId': [1,2,3, 4],\n",
    "    'TransactionQuantity': [20, 30,50,50],\n",
    "    'TransactionType': ['B','S','B','S']\n",
    "})\n"
   ]
  },
  {
   "cell_type": "code",
   "execution_count": 512,
   "metadata": {},
   "outputs": [
    {
     "data": {
      "text/html": [
       "<div>\n",
       "<style scoped>\n",
       "    .dataframe tbody tr th:only-of-type {\n",
       "        vertical-align: middle;\n",
       "    }\n",
       "\n",
       "    .dataframe tbody tr th {\n",
       "        vertical-align: top;\n",
       "    }\n",
       "\n",
       "    .dataframe thead th {\n",
       "        text-align: right;\n",
       "    }\n",
       "</style>\n",
       "<table border=\"1\" class=\"dataframe\">\n",
       "  <thead>\n",
       "    <tr style=\"text-align: right;\">\n",
       "      <th></th>\n",
       "      <th>Instrument</th>\n",
       "      <th>TransactionId</th>\n",
       "      <th>TransactionQuantity</th>\n",
       "      <th>TransactionType</th>\n",
       "    </tr>\n",
       "  </thead>\n",
       "  <tbody>\n",
       "    <tr>\n",
       "      <th>0</th>\n",
       "      <td>a</td>\n",
       "      <td>1</td>\n",
       "      <td>20</td>\n",
       "      <td>B</td>\n",
       "    </tr>\n",
       "    <tr>\n",
       "      <th>1</th>\n",
       "      <td>a</td>\n",
       "      <td>2</td>\n",
       "      <td>30</td>\n",
       "      <td>S</td>\n",
       "    </tr>\n",
       "    <tr>\n",
       "      <th>2</th>\n",
       "      <td>c</td>\n",
       "      <td>3</td>\n",
       "      <td>50</td>\n",
       "      <td>B</td>\n",
       "    </tr>\n",
       "    <tr>\n",
       "      <th>3</th>\n",
       "      <td>c</td>\n",
       "      <td>4</td>\n",
       "      <td>50</td>\n",
       "      <td>S</td>\n",
       "    </tr>\n",
       "  </tbody>\n",
       "</table>\n",
       "</div>"
      ],
      "text/plain": [
       "  Instrument  TransactionId  TransactionQuantity TransactionType\n",
       "0          a              1                   20               B\n",
       "1          a              2                   30               S\n",
       "2          c              3                   50               B\n",
       "3          c              4                   50               S"
      ]
     },
     "execution_count": 512,
     "metadata": {},
     "output_type": "execute_result"
    }
   ],
   "source": [
    "input"
   ]
  },
  {
   "cell_type": "code",
   "execution_count": 513,
   "metadata": {},
   "outputs": [],
   "source": [
    "expected = pd.DataFrame.from_dict({\n",
    "    'Instrument': ['a', 'c'],\n",
    "    'TransactionQuantity': [-10,0]\n",
    "})"
   ]
  },
  {
   "cell_type": "code",
   "execution_count": 514,
   "metadata": {},
   "outputs": [],
   "source": [
    "\n",
    "assert_dict_equal(expected.to_dict(), netTransaction(input).to_dict(), \"Unit Test failed\")"
   ]
  },
  {
   "cell_type": "code",
   "execution_count": 515,
   "metadata": {},
   "outputs": [],
   "source": [
    "input1 = pd.DataFrame.from_dict({\n",
    "    'Instrument': ['a', 'a','c','c'],\n",
    "    'Quantity': [100,100,300, -300],\n",
    "    'TransactionQuantity': [20, -30,50,-50],\n",
    "    'AccountType': ['E','I','E','I'],\n",
    "    'eod_Quantity': [0,0,0,0]\n",
    "})"
   ]
  },
  {
   "cell_type": "code",
   "execution_count": 516,
   "metadata": {},
   "outputs": [],
   "source": [
    "expected1 = pd.DataFrame.from_dict({\n",
    "    'Instrument': ['a','a','c', 'c'],\n",
    "   'Quantity': [100,100,300, -300],\n",
    "    'TransactionQuantity': [20, -30,50,-50],\n",
    "    'AccountType': ['E','I','E','I'],\n",
    "    'eod_Quantity': [120,130,350,-250]\n",
    "})"
   ]
  },
  {
   "cell_type": "code",
   "execution_count": 517,
   "metadata": {},
   "outputs": [],
   "source": [
    "assert_dict_equal(expected1.to_dict(), createPosition(input1).to_dict(), \"Unit Test failed\")"
   ]
  },
  {
   "cell_type": "code",
   "execution_count": null,
   "metadata": {},
   "outputs": [],
   "source": []
  }
 ],
 "metadata": {
  "kernelspec": {
   "display_name": "Python 3",
   "language": "python",
   "name": "python3"
  },
  "language_info": {
   "codemirror_mode": {
    "name": "ipython",
    "version": 3
   },
   "file_extension": ".py",
   "mimetype": "text/x-python",
   "name": "python",
   "nbconvert_exporter": "python",
   "pygments_lexer": "ipython3",
   "version": "3.6.5"
  }
 },
 "nbformat": 4,
 "nbformat_minor": 2
}
